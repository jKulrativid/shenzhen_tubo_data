{
  "nbformat": 4,
  "nbformat_minor": 0,
  "metadata": {
    "colab": {
      "name": "train.ipynb",
      "provenance": [],
      "authorship_tag": "ABX9TyNlBu39MARYyvyAHn1/dTK3"
    },
    "kernelspec": {
      "name": "python3",
      "display_name": "Python 3"
    },
    "language_info": {
      "name": "python"
    }
  },
  "cells": [
    {
      "cell_type": "code",
      "metadata": {
        "id": "DLuNC5EL4CWq"
      },
      "source": [
        "import torch\n",
        "import torch.nn as nn\n",
        "import torch.nn.functional as F\n",
        "import torchvision\n",
        "import matplotlib.pyplot as plt\n",
        "import numpy as np\n",
        "import pandas as pd"
      ],
      "execution_count": 4,
      "outputs": []
    },
    {
      "cell_type": "code",
      "metadata": {
        "id": "R-CeEy125E1Y"
      },
      "source": [
        "device = torch.device('cuda' if torch.cuda.is_available() else 'cpu')"
      ],
      "execution_count": 5,
      "outputs": []
    },
    {
      "cell_type": "code",
      "metadata": {
        "colab": {
          "base_uri": "https://localhost:8080/"
        },
        "id": "jxjGDaB45Plp",
        "outputId": "0ee85032-ad2e-4446-e104-751793b29768"
      },
      "source": [
        "from google.colab import drive\n",
        "drive.mount('/content/gdrive')"
      ],
      "execution_count": 6,
      "outputs": [
        {
          "output_type": "stream",
          "text": [
            "Mounted at /content/gdrive\n"
          ],
          "name": "stdout"
        }
      ]
    },
    {
      "cell_type": "code",
      "metadata": {
        "id": "DrFmaDB85rZA"
      },
      "source": [
        "csv_path = '/content/gdrive/MyDrive/shenzhen_tubeculosis/shenzhen_metadata.csv'"
      ],
      "execution_count": 8,
      "outputs": []
    },
    {
      "cell_type": "code",
      "metadata": {
        "id": "O4KoLKHX5gHg"
      },
      "source": [
        "df = pd.read_csv(csv_path)"
      ],
      "execution_count": 9,
      "outputs": []
    },
    {
      "cell_type": "code",
      "metadata": {
        "id": "C4gCf8k051E7"
      },
      "source": [
        "df = df.sample(frac=1).reset_index(drop=True)"
      ],
      "execution_count": 11,
      "outputs": []
    },
    {
      "cell_type": "code",
      "metadata": {
        "colab": {
          "base_uri": "https://localhost:8080/",
          "height": 669
        },
        "id": "OKaCtJPO53_q",
        "outputId": "0125e79e-8433-4457-aeba-b8aa6c666426"
      },
      "source": [
        "df.head(20)"
      ],
      "execution_count": 14,
      "outputs": [
        {
          "output_type": "execute_result",
          "data": {
            "text/html": [
              "<div>\n",
              "<style scoped>\n",
              "    .dataframe tbody tr th:only-of-type {\n",
              "        vertical-align: middle;\n",
              "    }\n",
              "\n",
              "    .dataframe tbody tr th {\n",
              "        vertical-align: top;\n",
              "    }\n",
              "\n",
              "    .dataframe thead th {\n",
              "        text-align: right;\n",
              "    }\n",
              "</style>\n",
              "<table border=\"1\" class=\"dataframe\">\n",
              "  <thead>\n",
              "    <tr style=\"text-align: right;\">\n",
              "      <th></th>\n",
              "      <th>study_id</th>\n",
              "      <th>sex</th>\n",
              "      <th>age</th>\n",
              "      <th>findings</th>\n",
              "    </tr>\n",
              "  </thead>\n",
              "  <tbody>\n",
              "    <tr>\n",
              "      <th>0</th>\n",
              "      <td>CHNCXR_0230_0.png</td>\n",
              "      <td>Male</td>\n",
              "      <td>44</td>\n",
              "      <td>normal</td>\n",
              "    </tr>\n",
              "    <tr>\n",
              "      <th>1</th>\n",
              "      <td>CHNCXR_0076_0.png</td>\n",
              "      <td>Male</td>\n",
              "      <td>1</td>\n",
              "      <td>normal</td>\n",
              "    </tr>\n",
              "    <tr>\n",
              "      <th>2</th>\n",
              "      <td>CHNCXR_0049_0.png</td>\n",
              "      <td>Female</td>\n",
              "      <td>35</td>\n",
              "      <td>normal</td>\n",
              "    </tr>\n",
              "    <tr>\n",
              "      <th>3</th>\n",
              "      <td>CHNCXR_0482_1.png</td>\n",
              "      <td>Female</td>\n",
              "      <td>30</td>\n",
              "      <td>PTB in the right lower field</td>\n",
              "    </tr>\n",
              "    <tr>\n",
              "      <th>4</th>\n",
              "      <td>CHNCXR_0163_0.png</td>\n",
              "      <td>Male</td>\n",
              "      <td>28</td>\n",
              "      <td>normal</td>\n",
              "    </tr>\n",
              "    <tr>\n",
              "      <th>5</th>\n",
              "      <td>CHNCXR_0141_0.png</td>\n",
              "      <td>Female</td>\n",
              "      <td>36</td>\n",
              "      <td>normal</td>\n",
              "    </tr>\n",
              "    <tr>\n",
              "      <th>6</th>\n",
              "      <td>CHNCXR_0347_1.png</td>\n",
              "      <td>Male</td>\n",
              "      <td>24</td>\n",
              "      <td>PTB in the left lower field</td>\n",
              "    </tr>\n",
              "    <tr>\n",
              "      <th>7</th>\n",
              "      <td>CHNCXR_0083_0.png</td>\n",
              "      <td>Male</td>\n",
              "      <td>37</td>\n",
              "      <td>normal</td>\n",
              "    </tr>\n",
              "    <tr>\n",
              "      <th>8</th>\n",
              "      <td>CHNCXR_0390_1.png</td>\n",
              "      <td>Male</td>\n",
              "      <td>25</td>\n",
              "      <td>Right PTB</td>\n",
              "    </tr>\n",
              "    <tr>\n",
              "      <th>9</th>\n",
              "      <td>CHNCXR_0662_1.png</td>\n",
              "      <td>Male</td>\n",
              "      <td>32</td>\n",
              "      <td>secondary PTB  in the right upper field</td>\n",
              "    </tr>\n",
              "    <tr>\n",
              "      <th>10</th>\n",
              "      <td>CHNCXR_0102_0.png</td>\n",
              "      <td>Female</td>\n",
              "      <td>25</td>\n",
              "      <td>normal</td>\n",
              "    </tr>\n",
              "    <tr>\n",
              "      <th>11</th>\n",
              "      <td>CHNCXR_0618_1.png</td>\n",
              "      <td>Male</td>\n",
              "      <td>25</td>\n",
              "      <td>bilateral PTB</td>\n",
              "    </tr>\n",
              "    <tr>\n",
              "      <th>12</th>\n",
              "      <td>CHNCXR_0274_0.png</td>\n",
              "      <td>Female</td>\n",
              "      <td>64</td>\n",
              "      <td>normal</td>\n",
              "    </tr>\n",
              "    <tr>\n",
              "      <th>13</th>\n",
              "      <td>CHNCXR_0597_1.png</td>\n",
              "      <td>Male</td>\n",
              "      <td>36</td>\n",
              "      <td>Right PTB</td>\n",
              "    </tr>\n",
              "    <tr>\n",
              "      <th>14</th>\n",
              "      <td>CHNCXR_0522_1.png</td>\n",
              "      <td>Male</td>\n",
              "      <td>33</td>\n",
              "      <td>bilateral PTB</td>\n",
              "    </tr>\n",
              "    <tr>\n",
              "      <th>15</th>\n",
              "      <td>CHNCXR_0557_1.png</td>\n",
              "      <td>Male</td>\n",
              "      <td>27</td>\n",
              "      <td>Right PTB</td>\n",
              "    </tr>\n",
              "    <tr>\n",
              "      <th>16</th>\n",
              "      <td>CHNCXR_0228_0.png</td>\n",
              "      <td>Male</td>\n",
              "      <td>1</td>\n",
              "      <td>normal</td>\n",
              "    </tr>\n",
              "    <tr>\n",
              "      <th>17</th>\n",
              "      <td>CHNCXR_0641_1.png</td>\n",
              "      <td>Male</td>\n",
              "      <td>28</td>\n",
              "      <td>left secondary PTB</td>\n",
              "    </tr>\n",
              "    <tr>\n",
              "      <th>18</th>\n",
              "      <td>CHNCXR_0282_0.png</td>\n",
              "      <td>Male</td>\n",
              "      <td>46</td>\n",
              "      <td>normal</td>\n",
              "    </tr>\n",
              "    <tr>\n",
              "      <th>19</th>\n",
              "      <td>CHNCXR_0583_1.png</td>\n",
              "      <td>Male</td>\n",
              "      <td>29</td>\n",
              "      <td>Right PTB</td>\n",
              "    </tr>\n",
              "  </tbody>\n",
              "</table>\n",
              "</div>"
            ],
            "text/plain": [
              "             study_id     sex  age                                 findings\n",
              "0   CHNCXR_0230_0.png    Male   44                                   normal\n",
              "1   CHNCXR_0076_0.png    Male    1                                   normal\n",
              "2   CHNCXR_0049_0.png  Female   35                                   normal\n",
              "3   CHNCXR_0482_1.png  Female   30             PTB in the right lower field\n",
              "4   CHNCXR_0163_0.png    Male   28                                   normal\n",
              "5   CHNCXR_0141_0.png  Female   36                                   normal\n",
              "6   CHNCXR_0347_1.png    Male   24              PTB in the left lower field\n",
              "7   CHNCXR_0083_0.png    Male   37                                   normal\n",
              "8   CHNCXR_0390_1.png    Male   25                                Right PTB\n",
              "9   CHNCXR_0662_1.png    Male   32  secondary PTB  in the right upper field\n",
              "10  CHNCXR_0102_0.png  Female   25                                   normal\n",
              "11  CHNCXR_0618_1.png    Male   25                            bilateral PTB\n",
              "12  CHNCXR_0274_0.png  Female   64                                   normal\n",
              "13  CHNCXR_0597_1.png    Male   36                                Right PTB\n",
              "14  CHNCXR_0522_1.png    Male   33                            bilateral PTB\n",
              "15  CHNCXR_0557_1.png    Male   27                                Right PTB\n",
              "16  CHNCXR_0228_0.png    Male    1                                   normal\n",
              "17  CHNCXR_0641_1.png    Male   28                       left secondary PTB\n",
              "18  CHNCXR_0282_0.png    Male   46                                   normal\n",
              "19  CHNCXR_0583_1.png    Male   29                                Right PTB"
            ]
          },
          "metadata": {},
          "execution_count": 14
        }
      ]
    },
    {
      "cell_type": "code",
      "metadata": {
        "colab": {
          "base_uri": "https://localhost:8080/",
          "height": 359
        },
        "id": "CjSNQa-J7bDg",
        "outputId": "0657fd22-caef-44be-9ad4-9d2dc8515d71"
      },
      "source": [
        "X = df['study_id']\n",
        "df['is_tube'] = np.array(df['findings'] != 'normal', dtype=int)\n",
        "df.head(10)"
      ],
      "execution_count": 26,
      "outputs": [
        {
          "output_type": "execute_result",
          "data": {
            "text/html": [
              "<div>\n",
              "<style scoped>\n",
              "    .dataframe tbody tr th:only-of-type {\n",
              "        vertical-align: middle;\n",
              "    }\n",
              "\n",
              "    .dataframe tbody tr th {\n",
              "        vertical-align: top;\n",
              "    }\n",
              "\n",
              "    .dataframe thead th {\n",
              "        text-align: right;\n",
              "    }\n",
              "</style>\n",
              "<table border=\"1\" class=\"dataframe\">\n",
              "  <thead>\n",
              "    <tr style=\"text-align: right;\">\n",
              "      <th></th>\n",
              "      <th>study_id</th>\n",
              "      <th>sex</th>\n",
              "      <th>age</th>\n",
              "      <th>findings</th>\n",
              "      <th>is_tube</th>\n",
              "    </tr>\n",
              "  </thead>\n",
              "  <tbody>\n",
              "    <tr>\n",
              "      <th>0</th>\n",
              "      <td>CHNCXR_0230_0.png</td>\n",
              "      <td>Male</td>\n",
              "      <td>44</td>\n",
              "      <td>normal</td>\n",
              "      <td>0</td>\n",
              "    </tr>\n",
              "    <tr>\n",
              "      <th>1</th>\n",
              "      <td>CHNCXR_0076_0.png</td>\n",
              "      <td>Male</td>\n",
              "      <td>1</td>\n",
              "      <td>normal</td>\n",
              "      <td>0</td>\n",
              "    </tr>\n",
              "    <tr>\n",
              "      <th>2</th>\n",
              "      <td>CHNCXR_0049_0.png</td>\n",
              "      <td>Female</td>\n",
              "      <td>35</td>\n",
              "      <td>normal</td>\n",
              "      <td>0</td>\n",
              "    </tr>\n",
              "    <tr>\n",
              "      <th>3</th>\n",
              "      <td>CHNCXR_0482_1.png</td>\n",
              "      <td>Female</td>\n",
              "      <td>30</td>\n",
              "      <td>PTB in the right lower field</td>\n",
              "      <td>1</td>\n",
              "    </tr>\n",
              "    <tr>\n",
              "      <th>4</th>\n",
              "      <td>CHNCXR_0163_0.png</td>\n",
              "      <td>Male</td>\n",
              "      <td>28</td>\n",
              "      <td>normal</td>\n",
              "      <td>0</td>\n",
              "    </tr>\n",
              "    <tr>\n",
              "      <th>5</th>\n",
              "      <td>CHNCXR_0141_0.png</td>\n",
              "      <td>Female</td>\n",
              "      <td>36</td>\n",
              "      <td>normal</td>\n",
              "      <td>0</td>\n",
              "    </tr>\n",
              "    <tr>\n",
              "      <th>6</th>\n",
              "      <td>CHNCXR_0347_1.png</td>\n",
              "      <td>Male</td>\n",
              "      <td>24</td>\n",
              "      <td>PTB in the left lower field</td>\n",
              "      <td>1</td>\n",
              "    </tr>\n",
              "    <tr>\n",
              "      <th>7</th>\n",
              "      <td>CHNCXR_0083_0.png</td>\n",
              "      <td>Male</td>\n",
              "      <td>37</td>\n",
              "      <td>normal</td>\n",
              "      <td>0</td>\n",
              "    </tr>\n",
              "    <tr>\n",
              "      <th>8</th>\n",
              "      <td>CHNCXR_0390_1.png</td>\n",
              "      <td>Male</td>\n",
              "      <td>25</td>\n",
              "      <td>Right PTB</td>\n",
              "      <td>1</td>\n",
              "    </tr>\n",
              "    <tr>\n",
              "      <th>9</th>\n",
              "      <td>CHNCXR_0662_1.png</td>\n",
              "      <td>Male</td>\n",
              "      <td>32</td>\n",
              "      <td>secondary PTB  in the right upper field</td>\n",
              "      <td>1</td>\n",
              "    </tr>\n",
              "  </tbody>\n",
              "</table>\n",
              "</div>"
            ],
            "text/plain": [
              "            study_id     sex  ...                                 findings is_tube\n",
              "0  CHNCXR_0230_0.png    Male  ...                                   normal       0\n",
              "1  CHNCXR_0076_0.png    Male  ...                                   normal       0\n",
              "2  CHNCXR_0049_0.png  Female  ...                                   normal       0\n",
              "3  CHNCXR_0482_1.png  Female  ...             PTB in the right lower field       1\n",
              "4  CHNCXR_0163_0.png    Male  ...                                   normal       0\n",
              "5  CHNCXR_0141_0.png  Female  ...                                   normal       0\n",
              "6  CHNCXR_0347_1.png    Male  ...              PTB in the left lower field       1\n",
              "7  CHNCXR_0083_0.png    Male  ...                                   normal       0\n",
              "8  CHNCXR_0390_1.png    Male  ...                                Right PTB       1\n",
              "9  CHNCXR_0662_1.png    Male  ...  secondary PTB  in the right upper field       1\n",
              "\n",
              "[10 rows x 5 columns]"
            ]
          },
          "metadata": {},
          "execution_count": 26
        }
      ]
    },
    {
      "cell_type": "code",
      "metadata": {
        "id": "j8h-TXIZ58MI"
      },
      "source": [
        "from sklearn.model_selection import train_test_split\n",
        "\n",
        "X = df['study_id']\n",
        "y = df['is_tube']\n",
        "\n",
        "X_train, X_test, y_train, y_test = train_test_split(X, y, test_size=.3, random_state=42)"
      ],
      "execution_count": 27,
      "outputs": []
    },
    {
      "cell_type": "code",
      "metadata": {
        "colab": {
          "base_uri": "https://localhost:8080/"
        },
        "id": "1-ng5wC869vB",
        "outputId": "800f9cbe-fb59-4cf4-de45-5013fdc96152"
      },
      "source": [
        "class "
      ],
      "execution_count": 30,
      "outputs": [
        {
          "output_type": "execute_result",
          "data": {
            "text/plain": [
              "354    CHNCXR_0217_0.png\n",
              "209    CHNCXR_0224_0.png\n",
              "257    CHNCXR_0339_1.png\n",
              "468    CHNCXR_0143_0.png\n",
              "467    CHNCXR_0468_1.png\n",
              "616    CHNCXR_0620_1.png\n",
              "137    CHNCXR_0153_0.png\n",
              "430    CHNCXR_0460_1.png\n",
              "331    CHNCXR_0462_1.png\n",
              "296    CHNCXR_0108_0.png\n",
              "Name: study_id, dtype: object"
            ]
          },
          "metadata": {},
          "execution_count": 30
        }
      ]
    }
  ]
}