{
  "nbformat": 4,
  "nbformat_minor": 0,
  "metadata": {
    "colab": {
      "name": "ShenzhenBetter.ipynb",
      "provenance": [],
      "collapsed_sections": [],
      "authorship_tag": "ABX9TyPpj0jl8yDWFYTq5Ujq/kmP"
    },
    "kernelspec": {
      "name": "python3",
      "display_name": "Python 3"
    },
    "language_info": {
      "name": "python"
    }
  },
  "cells": [
    {
      "cell_type": "code",
      "metadata": {
        "id": "PY50j_D29vMz"
      },
      "source": [
        "import torch\n",
        "import torchvision\n",
        "import torch.nn as nn\n",
        "from torch import optim\n",
        "from torchvision import transforms, datasets, models\n",
        "from torch.utils.data import Dataset, DataLoader\n",
        "\n",
        "import numpy as np\n",
        "import pandas as pd\n",
        "import matplotlib.pyplot as plt\n",
        "import copy\n",
        "import time\n",
        "\n",
        "import warnings\n",
        "warnings.filterwarnings('ignore')\n",
        "\n",
        "plt.ion()"
      ],
      "execution_count": 2,
      "outputs": []
    },
    {
      "cell_type": "code",
      "metadata": {
        "colab": {
          "base_uri": "https://localhost:8080/"
        },
        "id": "v3yUx-5o_Q5t",
        "outputId": "f34a0ea5-759c-4f55-ef77-5aba01bcb974"
      },
      "source": [
        "device = torch.device('cuda' if torch.cuda.is_available() else 'cpu')\n",
        "print(device)"
      ],
      "execution_count": 5,
      "outputs": [
        {
          "output_type": "stream",
          "name": "stdout",
          "text": [
            "cpu\n"
          ]
        }
      ]
    },
    {
      "cell_type": "markdown",
      "metadata": {
        "id": "4vSSojFQEYwF"
      },
      "source": [
        "## Mount to Drive"
      ]
    },
    {
      "cell_type": "code",
      "metadata": {
        "colab": {
          "base_uri": "https://localhost:8080/"
        },
        "id": "hF5GOnugEWxq",
        "outputId": "f1b7d936-ea5c-49fd-edc8-90cf4049064d"
      },
      "source": [
        "from google.colab import drive\n",
        "drive.mount('/content/drive')"
      ],
      "execution_count": 12,
      "outputs": [
        {
          "output_type": "stream",
          "name": "stdout",
          "text": [
            "Mounted at /content/drive\n"
          ]
        }
      ]
    },
    {
      "cell_type": "markdown",
      "metadata": {
        "id": "3WD3YeSMBZJ2"
      },
      "source": [
        "## Download the Dataset and Upzip it\n",
        "\n"
      ]
    },
    {
      "cell_type": "code",
      "metadata": {
        "colab": {
          "base_uri": "https://localhost:8080/"
        },
        "id": "FFVJ-U4a_gsZ",
        "outputId": "297e264d-4f66-4b42-b3d5-972ca2585914"
      },
      "source": [
        "import urllib\n",
        "import zipfile \n",
        "\n",
        "download_link = 'http://openi.nlm.nih.gov/imgs/collections/ChinaSet_AllFiles.zip'\n",
        "save_path = '/content/drive/MyDrive/shenzhen_tubeculosis/'\n",
        "urllib.request.urlretrieve(download_link, save_path)"
      ],
      "execution_count": 10,
      "outputs": [
        {
          "output_type": "execute_result",
          "data": {
            "text/plain": [
              "('content', <http.client.HTTPMessage at 0x7fb06a7bf750>)"
            ]
          },
          "metadata": {},
          "execution_count": 10
        }
      ]
    },
    {
      "cell_type": "code",
      "metadata": {
        "id": "FMIJsWMKCQiF"
      },
      "source": [
        "directory_to_extract_to = '/content/shenzhen_tubeculosis/unzipped_file'\n",
        "with zipfile.ZipFile(save_path, 'r') as zip_ref:\n",
        "    zip_ref.extractall(directory_to_extract_to)\n"
      ],
      "execution_count": 11,
      "outputs": []
    },
    {
      "cell_type": "code",
      "metadata": {
        "id": "v51hs3fFEQnG"
      },
      "source": [
        ""
      ],
      "execution_count": null,
      "outputs": []
    }
  ]
}